﻿{
  "metadata": {
    "name": "Jarvis Hive Project",
    "kernelspec": {
      "language": "scala",
      "name": "spark2-scala"
    },
    "language_info": {
      "codemirror_mode": "text/x-scala",
      "file_extension": ".scala",
      "mimetype": "text/x-scala",
      "name": "scala",
      "pygments_lexer": "scala"
    }
  },
  "nbformat": 4,
  "nbformat_minor": 2,
  "cells": [
    {
      "cell_type": "markdown",
      "metadata": {},
      "source": "# Query GS data\n- Create a hive table (\u0027wdi_2016\u0027) against the gs wdi_2016 data.\n- Count number of rows from the wdi_gs table"
    },
    {
      "cell_type": "markdown",
      "metadata": {},
      "source": ""
    },
    {
      "cell_type": "markdown",
      "metadata": {},
      "source": ""
    },
    {
      "cell_type": "code",
      "execution_count": 3,
      "metadata": {
        "autoscroll": "auto"
      },
      "outputs": [],
      "source": "-- Note semicolon is not allowed in zepplein\nDROP TABLE IF EXISTS wdi_gs \n"
    },
    {
      "cell_type": "code",
      "execution_count": 4,
      "metadata": {
        "autoscroll": "auto"
      },
      "outputs": [],
      "source": "-- Create wdi_gs\r\nCREATE EXTERNAL TABLE wdi_gs\r\n(year INTEGER, countryName STRING, countryCode STRING, indicatorName STRING, indicatorCode STRING, indicatorValue FLOAT)\r\nROW FORMAT DELIMITED FIELDS TERMINATED BY \u0027,\u0027 LINES TERMINATED BY \u0027\\n\u0027\r\nLOCATION \u0027gs://jarvis_data_eng_homa/datasets/wdi_2016\u0027\r\nTBLPROPERTIES (\"skip.header.line.count\"\u003d\"1\")"
    },
    {
      "cell_type": "code",
      "execution_count": 5,
      "metadata": {
        "autoscroll": "auto"
      },
      "outputs": [],
      "source": "-- Show table meta data\nDESCRIBE FORMATTED wdi_gs"
    },
    {
      "cell_type": "code",
      "execution_count": 6,
      "metadata": {
        "autoscroll": "auto"
      },
      "outputs": [],
      "source": "SELECT count(countryName) FROM wdi_gs;"
    },
    {
      "cell_type": "code",
      "execution_count": 7,
      "metadata": {
        "autoscroll": "auto"
      },
      "outputs": [],
      "source": "DROP TABLE IF EXISTS wdi_csv_text;\r\nCREATE EXTERNAL TABLE wdi_csv_text\r\n(year INTEGER, countryName STRING, countryCode STRING, indicatorName STRING, indicatorCode STRING, indicatorValue FLOAT)\r\nROW FORMAT DELIMITED FIELDS TERMINATED BY \u0027,\u0027 LINES TERMINATED BY \u0027\\n\u0027\r\nLOCATION \u0027hdfs:///user/homaalmasieh/hive/wdi/wdi_csv_text\u0027"
    },
    {
      "cell_type": "code",
      "execution_count": 8,
      "metadata": {
        "autoscroll": "auto"
      },
      "outputs": [],
      "source": "-- Run a HiveQL which read data from wdi_gs table and write to wdi_csv_text \r\nINSERT OVERWRITE TABLE wdi_csv_text\r\nSELECT * FROM wdi_gs"
    },
    {
      "cell_type": "markdown",
      "metadata": {},
      "source": "## Check HDFS file size for wdi_csv_text file using bash\n- hdfs dfs -ls -h /user/homaalmasieh/hive/wdi/wdi_csv_text\n- hdfs dfs -du -s -h /user/homaalmasieh/hive/wdi/wdi_csv_text"
    },
    {
      "cell_type": "code",
      "execution_count": 10,
      "metadata": {
        "autoscroll": "auto"
      },
      "outputs": [],
      "source": "-- Execute twice, and the second query run faster \nSELECT count(countryName) FROM wdi_csv_text"
    },
    {
      "cell_type": "markdown",
      "metadata": {},
      "source": "The number of rows(unique contryName) in wdi_csv_text table is 21759408."
    },
    {
      "cell_type": "markdown",
      "metadata": {},
      "source": "## Monitor Hadoop/Yarn job"
    },
    {
      "cell_type": "code",
      "execution_count": 13,
      "metadata": {
        "autoscroll": "auto"
      },
      "outputs": [],
      "source": "%sh\n\n#SSH to master node\ncd ~\nhdfs  dfs -get  hdfs:///user/homaalmasieh/hive/wdi/wdi_csv_text .\ncd wdi_csv_text\n#calculate current directory size\ndu -ch .\n#1.8G\ttotal\n\n#clear fs cache\necho 3 | sudo tee /proc/sys/vm/drop_caches\n#bash row count\ndate +%s \u0026\u0026 cat * | wc \u0026\u0026 date +%s\n"
    },
    {
      "cell_type": "markdown",
      "metadata": {},
      "source": " \nIt takes much longer to execute the query using bash since we would only be using one machine. Hive allows us to use multiple machine. \n"
    },
    {
      "cell_type": "code",
      "execution_count": 15,
      "metadata": {
        "autoscroll": "auto"
      },
      "outputs": [],
      "source": "-- Run the following query and discuss what could be wrong with the indicatorcode column.\nSELECT distinct(indicatorcode)\nFROM wdi_csv_text\nORDER BY indicatorcode\nLIMIT 20;\n"
    },
    {
      "cell_type": "markdown",
      "metadata": {},
      "source": "## Parsing issues\n- Create an external table wdi_gs_debug with one column without any SerDe parsing\n- Query the line that have parsing issue\n- Create a Table with OpenCSV SerDe"
    },
    {
      "cell_type": "code",
      "execution_count": 17,
      "metadata": {
        "autoscroll": "auto"
      },
      "outputs": [],
      "source": "DROP TABLE IF EXISTS wdi_gs_debug"
    },
    {
      "cell_type": "code",
      "execution_count": 18,
      "metadata": {
        "autoscroll": "auto"
      },
      "outputs": [],
      "source": "-- Create a debug table \nCREATE EXTERNAL TABLE wdi_gs_debug\n(line STRING)\nLOCATION \u0027gs://jarvis_data_eng_homa/datasets/wdi_2016\u0027\nTBLPROPERTIES (\"skip.header.line.count\"\u003d\"1\")\n"
    },
    {
      "cell_type": "code",
      "execution_count": 19,
      "metadata": {
        "autoscroll": "auto"
      },
      "outputs": [],
      "source": "SELECT DISTINCT(line) FROM wdi_gs_debug\nWHERE line like \"%\\(\\% of urban population\\)\\\"%\""
    },
    {
      "cell_type": "code",
      "execution_count": 20,
      "metadata": {
        "autoscroll": "auto"
      },
      "outputs": [],
      "source": "DROP TABLE IF EXISTS wdi_opencsv_gs"
    },
    {
      "cell_type": "code",
      "execution_count": 21,
      "metadata": {
        "autoscroll": "auto"
      },
      "outputs": [],
      "source": "-- Create a opencsv table \n-- SerDe treats all columns to be of type String\nCREATE EXTERNAL TABLE wdi_opencsv_gs\n(year INTEGER, countryName STRING, countryCode STRING, indicatorName STRING, indicatorCode STRING, indicatorValue FLOAT)\nROW FORMAT SERDE \u0027org.apache.hadoop.hive.serde2.OpenCSVSerde\u0027\nLOCATION \u0027gs://jarvis_data_eng_homa/datasets/wdi_2016\u0027\nTBLPROPERTIES (\"skip.header.line.count\"\u003d\"1\")"
    },
    {
      "cell_type": "code",
      "execution_count": 22,
      "metadata": {
        "autoscroll": "auto"
      },
      "outputs": [],
      "source": "SELECT DISTINCT(indicatorcode) from wdi_opencsv_gs"
    },
    {
      "cell_type": "code",
      "execution_count": 23,
      "metadata": {
        "autoscroll": "auto"
      },
      "outputs": [],
      "source": "DROP TABLE IF EXISTS wdi_opencsv_text"
    },
    {
      "cell_type": "code",
      "execution_count": 24,
      "metadata": {
        "autoscroll": "auto"
      },
      "outputs": [],
      "source": "-- Create wdi_opencsv_text table\r\nCREATE EXTERNAL TABLE wdi_opencsv_text\r\n(year INTEGER, countryName STRING, countryCode STRING, indicatorName STRING, indicatorCode STRING, indicatorValue FLOAT)\r\nROW FORMAT DELIMITED FIELDS TERMINATED BY \u0027,\u0027 LINES TERMINATED BY \u0027\\n\u0027\r\nLOCATION \u0027hdfs:///user/homaalmasieh/hive/wdi/wdi_opencsv_text\u0027"
    },
    {
      "cell_type": "code",
      "execution_count": 25,
      "metadata": {
        "autoscroll": "auto"
      },
      "outputs": [],
      "source": "-- Write a HiveQL whcih read data from wdi_opencsv_gs and write to wdi_opencsv_text\nINSERT OVERWRITE TABLE wdi_opencsv_text\nSELECT * FROM wdi_opencsv_gs"
    },
    {
      "cell_type": "code",
      "execution_count": 26,
      "metadata": {
        "autoscroll": "auto"
      },
      "outputs": [],
      "source": "-- Verify parsing from wdi_opencsv_text\nSELECT DISTINCT(indicatorCode) from wdi_opencsv_text"
    },
    {
      "cell_type": "code",
      "execution_count": 27,
      "metadata": {
        "autoscroll": "auto"
      },
      "outputs": [],
      "source": "-- Compare execution time\nSELECT count(countryName) FROM wdi_opencsv_text"
    },
    {
      "cell_type": "code",
      "execution_count": 28,
      "metadata": {
        "autoscroll": "auto"
      },
      "outputs": [],
      "source": "SELECT count(countryName) FROM wdi_csv_text"
    },
    {
      "cell_type": "markdown",
      "metadata": {},
      "source": " \nwdi_opencsv_text is significantly slower since it\u0027s using the OpenCSVSerde which has to do extra working in parsing the data for quotes and delimiters.    "
    },
    {
      "cell_type": "markdown",
      "metadata": {},
      "source": "## OpenCSVSerde Limitation\nCreate an OpenCSV Serde view and cast the column data_type to the proper type"
    },
    {
      "cell_type": "code",
      "execution_count": 31,
      "metadata": {
        "autoscroll": "auto"
      },
      "outputs": [],
      "source": "-- Show wdi_opencsv_text metadata\nDESCRIBE FORMATTED wdi_opencsv_text\n"
    },
    {
      "cell_type": "code",
      "execution_count": 32,
      "metadata": {
        "autoscroll": "auto"
      },
      "outputs": [],
      "source": "-- Show wdi_csv_text metadata\nDESCRIBE FORMATTED wdi_csv_text"
    },
    {
      "cell_type": "code",
      "execution_count": 33,
      "metadata": {
        "autoscroll": "auto"
      },
      "outputs": [],
      "source": "DROP VIEW IF EXISTS wdi_opencsv_text_view"
    },
    {
      "cell_type": "code",
      "execution_count": 34,
      "metadata": {
        "autoscroll": "auto"
      },
      "outputs": [],
      "source": "-- Create a view on top of wdi_opencsv_text\r\nCREATE VIEW IF NOT EXISTS wdi_opencsv_text_view\r\nAS\r\nSELECT CAST(year AS INTEGER), countryName, countryCode, indicatorName, indicatorCode, CAST(indicatorValue AS FLOAT) \r\nFROM wdi_opencsv_text\r\n"
    },
    {
      "cell_type": "code",
      "execution_count": 35,
      "metadata": {
        "autoscroll": "auto"
      },
      "outputs": [],
      "source": "DESCRIBE FORMATTED wdi_opencsv_text_view"
    },
    {
      "cell_type": "markdown",
      "metadata": {},
      "source": "## 2015 Canada GDP Growth HQL"
    },
    {
      "cell_type": "code",
      "execution_count": 37,
      "metadata": {
        "autoscroll": "auto"
      },
      "outputs": [],
      "source": "-- Write a HQL to find out the correct indicator name/code\nSELECT DISTINCT(indicatorCode), indicatorName\nFROM wdi_opencsv_text\nWHERE indicatorCode LIKE \u0027%GDP%\u0027"
    },
    {
      "cell_type": "code",
      "execution_count": 38,
      "metadata": {
        "autoscroll": "auto"
      },
      "outputs": [],
      "source": "-- Find 2015 GDP growth (annual %) for Canada\nSELECT indicatorValue, year, countryName\nFROM wdi_opencsv_text\nWHERE countryName \u003d \u0027Canada\u0027 AND indicatorCode \u003d \u0027NY.GDP.MKTP.KD.ZG\u0027 AND year \u003d \u00272015\u0027\n"
    },
    {
      "cell_type": "markdown",
      "metadata": {},
      "source": "Using filter will definitely slow down the query especially for table that are really huge. We can optimize our query by doing Hive partition."
    },
    {
      "cell_type": "markdown",
      "metadata": {},
      "source": " \n## Hive Partitions\nOptimize the previous query using Hive partition feature"
    },
    {
      "cell_type": "code",
      "execution_count": 41,
      "metadata": {
        "autoscroll": "auto"
      },
      "outputs": [],
      "source": "DROP TABLE IF EXISTS wdi_opencsv_text_partitions"
    },
    {
      "cell_type": "code",
      "execution_count": 42,
      "metadata": {
        "autoscroll": "auto"
      },
      "outputs": [],
      "source": "-- Create wdi_opencsv_text_partitions table which partitioned by year\nCREATE EXTERNAL TABLE wdi_opencsv_text_partitions\n(countryName STRING, countryCode STRING, indicatorName STRING, indicatorCode STRING, indicatorValue FLOAT) PARTITIONED By (year INTEGER)\nROW FORMAT SERDE \u0027org.apache.hadoop.hive.serde2.OpenCSVSerde\u0027\nLOCATION \u0027hdfs:///user/homaalmasieh/hive/wdi/wdi_opencsv_text_partitions\u0027"
    },
    {
      "cell_type": "code",
      "execution_count": 43,
      "metadata": {
        "autoscroll": "auto"
      },
      "outputs": [],
      "source": "-- Load data from wdi_opencsv_text to wdi_opencsv_text_partitions\r\nSET hive.exec.dynamic.partition.mode\u003dnonstrict\r\nSET hive.exec.dynamic.partition\u003dtrue;\r\nSET hive.stats.column.autogather\u003dfalse;\r\nINSERT OVERWRITE TABLE wdi_opencsv_text_partitions PARTITION (year)\r\nSELECT countryname, countrycode, indicatorname, indicatorcode, indicatorvalue, year\r\nFROM wdi_opencsv_text"
    },
    {
      "cell_type": "code",
      "execution_count": 44,
      "metadata": {
        "autoscroll": "auto"
      },
      "outputs": [],
      "source": "SELECT * FROM wdi_opencsv_text_partitions"
    },
    {
      "cell_type": "code",
      "execution_count": 45,
      "metadata": {
        "autoscroll": "auto"
      },
      "outputs": [],
      "source": "%sh\n# Check how many partitions created\nhdfs  dfs -ls -h hdfs:///user/homaalmasieh/hive/wdi/wdi_opencsv_text_partitions"
    },
    {
      "cell_type": "code",
      "execution_count": 46,
      "metadata": {
        "autoscroll": "auto"
      },
      "outputs": [],
      "source": "-- Retrieve 2015 GDP growth (annual %) for Canada\nSELECT indicatorValue, year, countryName\nFROM wdi_opencsv_text\nWHERE countryName \u003d \u0027Canada\u0027 AND indicatorCode \u003d \u0027NY.GDP.MKTP.KD.ZG\u0027 AND year \u003d \u00272015\u0027"
    },
    {
      "cell_type": "code",
      "execution_count": 47,
      "metadata": {
        "autoscroll": "auto"
      },
      "outputs": [],
      "source": "DROP VIEW IF EXISTS wdi_opencsv_gdp_partitions_view"
    },
    {
      "cell_type": "code",
      "execution_count": 48,
      "metadata": {
        "autoscroll": "auto"
      },
      "outputs": [],
      "source": "CREATE VIEW IF NOT EXISTS wdi_opencsv_gdp_partitions_view\nAS\nSELECT CAST(indicatorValue AS FLOAT) AS GDP_growth_value, CAST(year AS INTEGER), countryName \nFROM wdi_opencsv_text_partitions\nWHERE countryName \u003d \u0027Canada\u0027 AND indicatorName LIKE (\u0027%GDP growth (annual \\%)%\u0027)  AND year \u003d \u00272015\u0027"
    },
    {
      "cell_type": "code",
      "execution_count": 49,
      "metadata": {
        "autoscroll": "auto"
      },
      "outputs": [],
      "source": "SELECT * FROM wdi_opencsv_gdp_partitions_view"
    },
    {
      "cell_type": "markdown",
      "metadata": {},
      "source": "The time taken to execute the 2015 GDP Canada Growth HQL has significantly decreased by using wdi_opencsv_text_partitions instead of wdi_opencsv_text. Since the compiler will face the partioned data set."
    },
    {
      "cell_type": "markdown",
      "metadata": {},
      "source": "## Columnar File Optimization\nOptimize HQL query using columnar file. "
    },
    {
      "cell_type": "code",
      "execution_count": 52,
      "metadata": {
        "autoscroll": "auto"
      },
      "outputs": [],
      "source": "DROP TABLE IF EXISTS wdi_csv_parquet "
    },
    {
      "cell_type": "code",
      "execution_count": 53,
      "metadata": {
        "autoscroll": "auto"
      },
      "outputs": [],
      "source": "-- Create the wdi_csv_parquet table\nCREATE EXTERNAL TABLE wdi_csv_parquet\n(year INTEGER, countryName STRING, countryCode STRING, indicatorName STRING, indicatorCode STRING, indicatorValue FLOAT)\nSTORED AS PARQUET\nLOCATION \u0027hdfs:///user/homaalmasieh/hive/wdi/wdi_csv_parquet\u0027\n"
    },
    {
      "cell_type": "code",
      "execution_count": 54,
      "metadata": {
        "autoscroll": "auto"
      },
      "outputs": [],
      "source": "-- Load data from wdi_opencsv_gs to wdi_csv_parquet\r\nINSERT OVERWRITE TABLE wdi_csv_parquet\r\nSELECT year, countryName, countryCode, indicatorName, indicatorCode, indicatorValue\r\nFROM wdi_opencsv_gs"
    },
    {
      "cell_type": "code",
      "execution_count": 55,
      "metadata": {
        "autoscroll": "auto"
      },
      "outputs": [],
      "source": "%sh\n# Check the size of wdi_csv_parquet\nhdfs dfs -du -s -h hdfs:///user/homaalmasieh/hive/wdi/wdi_csv_parquet"
    },
    {
      "cell_type": "code",
      "execution_count": 56,
      "metadata": {
        "autoscroll": "auto"
      },
      "outputs": [],
      "source": "%sh\n# Check the size of wdi_csv_parquet\nhdfs dfs -du -s -h hdfs:///user/homaalmasieh/hive/wdi/wdi_opencsv_text"
    },
    {
      "cell_type": "code",
      "execution_count": 57,
      "metadata": {
        "autoscroll": "auto"
      },
      "outputs": [],
      "source": "-- Compare runtime\nSELECT count(countryName) FROM wdi_csv_parquet\n"
    },
    {
      "cell_type": "code",
      "execution_count": 58,
      "metadata": {
        "autoscroll": "auto"
      },
      "outputs": [],
      "source": "SELECT count(countryName) FROM wdi_opencsv_text"
    },
    {
      "cell_type": "code",
      "execution_count": 59,
      "metadata": {
        "autoscroll": "auto"
      },
      "outputs": [],
      "source": "-- Execute 2015 GDP Growth HQL against wdi_csv_parquet and wdi_opencsv_text tables\nSELECT indicatorValue, year, countryName\nFROM wdi_csv_parquet\nWHERE countryName \u003d \u0027Canada\u0027 AND indicatorCode \u003d \u0027NY.GDP.MKTP.KD.ZG\u0027 AND year \u003d \u00272015\u0027"
    },
    {
      "cell_type": "code",
      "execution_count": 60,
      "metadata": {
        "autoscroll": "auto"
      },
      "outputs": [],
      "source": "SELECT indicatorValue, year, countryName\nFROM wdi_opencsv_text\nWHERE countryName \u003d \u0027Canada\u0027 AND indicatorCode \u003d \u0027NY.GDP.MKTP.KD.ZG\u0027 AND year \u003d \u00272015\u0027"
    },
    {
      "cell_type": "markdown",
      "metadata": {},
      "source": "The dataset using wdi_csv_parquet is significiently faster than when using wdi_opencsv_text."
    },
    {
      "cell_type": "markdown",
      "metadata": {},
      "source": "## Highest GDP Growth\n"
    },
    {
      "cell_type": "code",
      "execution_count": 63,
      "metadata": {
        "autoscroll": "auto"
      },
      "outputs": [],
      "source": "-- Find the highest GDP growth (NY.GDP.MKTP.KD.ZG) year for each country\nSELECT wdi.indicatorValue As GDP_growth_value, wdi.year, wdi.countryName\nFROM (\n     SELECT max(indicatorValue) AS max_ind, countryName\n     FROM wdi_csv_parquet\n     WHERE indicatorCode \u003d \u0027NY.GDP.MKTP.KD.ZG\u0027 AND indicatorValue !\u003d0\n     GROUP BY countryName\n) maxValue\nINNER JOIN wdi_csv_parquet AS wdi ON maxValue.max_ind \u003d wdi.indicatorValue AND maxValue.countryName \u003d wdi.countryName\nORDER BY GDP_growth_value DESC\n"
    },
    {
      "cell_type": "code",
      "execution_count": 64,
      "metadata": {
        "autoscroll": "auto"
      },
      "outputs": [],
      "source": "%spark.sql\n-- Use %spark.sql to switch to Spark interpreter\n\nSELECT wdi.indicatorValue As GDP_growth_value, wdi.year, wdi.countryName\nFROM (\n     SELECT max(indicatorValue) AS max_ind, countryName\n     FROM wdi_csv_parquet\n     WHERE indicatorCode \u003d \u0027NY.GDP.MKTP.KD.ZG\u0027 AND indicatorValue !\u003d0\n     GROUP BY countryName\n) maxValue\nINNER JOIN wdi_csv_parquet AS wdi ON maxValue.max_ind \u003d wdi.indicatorValue AND maxValue.countryName \u003d wdi.countryName\nORDER BY GDP_growth_value DESC"
    },
    {
      "cell_type": "markdown",
      "metadata": {},
      "source": "### Compare the execution time with the Hive Tez query and spark.sql\n\nThe Hive interpreter took 1.5 minutes which is significantly slower than using spark interpreter.  "
    },
    {
      "cell_type": "markdown",
      "metadata": {},
      "source": "## Sort GDP by country and year "
    },
    {
      "cell_type": "code",
      "execution_count": 67,
      "metadata": {
        "autoscroll": "auto"
      },
      "outputs": [],
      "source": "-- Write a query that returns GDP Growth for all coutries. Sort by countryName and year.\nSELECT countryName, year, indicatorCode, indicatorValue AS GDP_growth_value\nFROM wdi_csv_parquet\nWHERE indicatorCode \u003d \u0027NY.GDP.MKTP.KD.ZG\u0027\nDISTRIBUTE BY countryName\nSORT BY countryName ASC, year ASC\n\n"
    }
  ]
}